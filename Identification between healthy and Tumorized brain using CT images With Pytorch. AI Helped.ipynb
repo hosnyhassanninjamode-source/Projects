{
 "cells": [
  {
   "cell_type": "code",
   "execution_count": 1,
   "id": "bc7df7a7",
   "metadata": {},
   "outputs": [
    {
     "name": "stdout",
     "output_type": "stream",
     "text": [
      "Classes: ['Healthy', 'Tumor']\n"
     ]
    },
    {
     "name": "stderr",
     "output_type": "stream",
     "text": [
      "c:\\Users\\hosny\\AppData\\Local\\Programs\\Python\\Python313\\Lib\\site-packages\\torchvision\\models\\_utils.py:208: UserWarning: The parameter 'pretrained' is deprecated since 0.13 and may be removed in the future, please use 'weights' instead.\n",
      "  warnings.warn(\n",
      "c:\\Users\\hosny\\AppData\\Local\\Programs\\Python\\Python313\\Lib\\site-packages\\torchvision\\models\\_utils.py:223: UserWarning: Arguments other than a weight enum or `None` for 'weights' are deprecated since 0.13 and may be removed in the future. The current behavior is equivalent to passing `weights=ResNet18_Weights.IMAGENET1K_V1`. You can also use `weights=ResNet18_Weights.DEFAULT` to get the most up-to-date weights.\n",
      "  warnings.warn(msg)\n"
     ]
    },
    {
     "name": "stdout",
     "output_type": "stream",
     "text": [
      "Epoch 1/5 - Loss: 0.0786, Acc: 96.98%\n",
      "Epoch 2/5 - Loss: 0.0247, Acc: 99.23%\n",
      "Epoch 3/5 - Loss: 0.0070, Acc: 99.76%\n",
      "Epoch 4/5 - Loss: 0.0102, Acc: 99.68%\n",
      "Epoch 5/5 - Loss: 0.0057, Acc: 99.83%\n",
      "✅ Model saved at brain_ct_classifier.pth\n"
     ]
    }
   ],
   "source": [
    "import os\n",
    "import torch\n",
    "import torch.nn as nn\n",
    "import torch.optim as optim\n",
    "from torchvision import datasets, transforms, models\n",
    "from torch.utils.data import DataLoader\n",
    "\n",
    "# ---------------- SETTINGS ----------------\n",
    "DATA_DIR = r\"F:\\Work\\ORANGE MODELS\\brain_tumor_dataset\\train\"\n",
    "MODEL_PATH = \"brain_ct_classifier.pth\"\n",
    "BATCH_SIZE = 32\n",
    "IMG_SIZE = 224\n",
    "EPOCHS = 5\n",
    "# ------------------------------------------\n",
    "\n",
    "# Transform (resize + normalize)\n",
    "transform = transforms.Compose([\n",
    "    transforms.Resize((IMG_SIZE, IMG_SIZE)),\n",
    "    transforms.ToTensor(),\n",
    "    transforms.Normalize([0.485, 0.456, 0.406],\n",
    "                         [0.229, 0.224, 0.225])  # standard ImageNet norm\n",
    "])\n",
    "\n",
    "# Dataset + DataLoader\n",
    "train_dataset = datasets.ImageFolder(DATA_DIR, transform=transform)\n",
    "train_loader = DataLoader(train_dataset, batch_size=BATCH_SIZE, shuffle=True)\n",
    "\n",
    "# Get class names\n",
    "class_names = train_dataset.classes\n",
    "print(\"Classes:\", class_names)\n",
    "\n",
    "# Simple model: Pretrained ResNet18\n",
    "model = models.resnet18(pretrained=True)\n",
    "model.fc = nn.Linear(model.fc.in_features, len(class_names))\n",
    "\n",
    "device = torch.device(\"cuda\" if torch.cuda.is_available() else \"cpu\")\n",
    "model = model.to(device)\n",
    "\n",
    "# Loss + Optimizer\n",
    "criterion = nn.CrossEntropyLoss()\n",
    "optimizer = optim.Adam(model.parameters(), lr=0.0001)\n",
    "\n",
    "# Training loop\n",
    "for epoch in range(EPOCHS):\n",
    "    model.train()\n",
    "    running_loss, correct = 0.0, 0\n",
    "    for images, labels in train_loader:\n",
    "        images, labels = images.to(device), labels.to(device)\n",
    "\n",
    "        optimizer.zero_grad()\n",
    "        outputs = model(images)\n",
    "        loss = criterion(outputs, labels)\n",
    "        loss.backward()\n",
    "        optimizer.step()\n",
    "\n",
    "        running_loss += loss.item() * images.size(0)\n",
    "        _, preds = torch.max(outputs, 1)\n",
    "        correct += torch.sum(preds == labels).item()\n",
    "\n",
    "    epoch_loss = running_loss / len(train_dataset)\n",
    "    epoch_acc = correct / len(train_dataset) * 100\n",
    "    print(f\"Epoch {epoch+1}/{EPOCHS} - Loss: {epoch_loss:.4f}, Acc: {epoch_acc:.2f}%\")\n",
    "\n",
    "# Save model\n",
    "torch.save({\n",
    "    \"model_state\": model.state_dict(),\n",
    "    \"class_names\": class_names\n",
    "}, MODEL_PATH)\n",
    "\n",
    "print(\"✅ Model saved at\", MODEL_PATH)\n"
   ]
  },
  {
   "cell_type": "code",
   "execution_count": 8,
   "id": "4e7558b0",
   "metadata": {},
   "outputs": [
    {
     "name": "stdout",
     "output_type": "stream",
     "text": [
      "\n",
      "--- Prediction ---\n",
      "Healthy: 99.92%\n",
      "Tumor: 0.08%\n",
      "\n",
      "➡️ Final Prediction: Healthy (confidence: 99.92%)\n"
     ]
    }
   ],
   "source": [
    "import torch\n",
    "import torch.nn as nn\n",
    "from torchvision import models, transforms\n",
    "from PIL import Image\n",
    "\n",
    "# ---------------- SETTINGS ----------------\n",
    "MODEL_PATH = r\"F:\\Work\\ORANGE MODELS\\brain_tumor_dataset\\train\\brain_ct_classifier.pth\"\n",
    "IMG_PATH = r\"F:\\Work\\ORANGE MODELS\\brain_tumor_dataset\\val\\Healthy\\ct_healthy (3).png\"\n",
    "IMG_SIZE = 224\n",
    "# ------------------------------------------\n",
    "\n",
    "# Load checkpoint\n",
    "checkpoint = torch.load(MODEL_PATH, map_location=\"cpu\")\n",
    "class_names = checkpoint[\"class_names\"]\n",
    "\n",
    "# Rebuild model\n",
    "model = models.resnet18(pretrained=False)\n",
    "model.fc = nn.Linear(model.fc.in_features, len(class_names))\n",
    "model.load_state_dict(checkpoint[\"model_state\"])\n",
    "model.eval()\n",
    "\n",
    "# Transform\n",
    "transform = transforms.Compose([\n",
    "    transforms.Resize((IMG_SIZE, IMG_SIZE)),\n",
    "    transforms.ToTensor(),\n",
    "    transforms.Normalize([0.485, 0.456, 0.406],\n",
    "                         [0.229, 0.224, 0.225])\n",
    "])\n",
    "\n",
    "# Load image\n",
    "img = Image.open(IMG_PATH).convert(\"RGB\")\n",
    "img = transform(img).unsqueeze(0)  # add batch\n",
    "\n",
    "# Predict\n",
    "with torch.no_grad():\n",
    "    outputs = model(img)\n",
    "    probs = torch.softmax(outputs, dim=1)[0]\n",
    "    pred_idx = torch.argmax(probs).item()\n",
    "    confidence = probs[pred_idx].item()\n",
    "\n",
    "print(\"\\n--- Prediction ---\")\n",
    "for i, p in enumerate(probs):\n",
    "    print(f\"{class_names[i]}: {p*100:.2f}%\")\n",
    "\n",
    "print(f\"\\n➡️ Final Prediction: {class_names[pred_idx]} (confidence: {confidence*100:.2f}%)\")\n"
   ]
  },
  {
   "cell_type": "code",
   "execution_count": null,
   "id": "d29356ab",
   "metadata": {},
   "outputs": [],
   "source": []
  },
  {
   "cell_type": "code",
   "execution_count": null,
   "id": "17fd5a34",
   "metadata": {},
   "outputs": [],
   "source": []
  },
  {
   "cell_type": "code",
   "execution_count": null,
   "id": "68d654fe",
   "metadata": {},
   "outputs": [],
   "source": []
  },
  {
   "cell_type": "code",
   "execution_count": null,
   "id": "a6f8300b",
   "metadata": {},
   "outputs": [],
   "source": []
  }
 ],
 "metadata": {
  "kernelspec": {
   "display_name": "Python 3",
   "language": "python",
   "name": "python3"
  },
  "language_info": {
   "codemirror_mode": {
    "name": "ipython",
    "version": 3
   },
   "file_extension": ".py",
   "mimetype": "text/x-python",
   "name": "python",
   "nbconvert_exporter": "python",
   "pygments_lexer": "ipython3",
   "version": "3.13.5"
  }
 },
 "nbformat": 4,
 "nbformat_minor": 5
}
